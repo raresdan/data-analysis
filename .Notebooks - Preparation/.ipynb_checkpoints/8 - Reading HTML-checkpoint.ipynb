{
 "cells": [
  {
   "cell_type": "code",
   "execution_count": 3,
   "id": "455e17df-37ac-44af-ba29-4686e7f146fe",
   "metadata": {},
   "outputs": [
    {
     "name": "stdout",
     "output_type": "stream",
     "text": [
      "Requirement already satisfied: lxml in c:\\users\\rares\\appdata\\local\\packages\\pythonsoftwarefoundation.python.3.10_qbz5n2kfra8p0\\localcache\\local-packages\\python310\\site-packages (4.9.3)\n"
     ]
    }
   ],
   "source": [
    "!pip install lxml"
   ]
  },
  {
   "cell_type": "code",
   "execution_count": 2,
   "id": "3767e4f4-7e00-4fba-97ee-0c14d90829af",
   "metadata": {},
   "outputs": [],
   "source": [
    "import pandas as pd"
   ]
  },
  {
   "cell_type": "code",
   "execution_count": 4,
   "id": "a6da914d-8760-45df-b0a5-30490eeb2eff",
   "metadata": {},
   "outputs": [],
   "source": [
    "html_string = \"\"\"\n",
    "<table>\n",
    "    <thead>\n",
    "      <tr>\n",
    "        <th>Order date</th>\n",
    "        <th>Region</th> \n",
    "        <th>Item</th>\n",
    "        <th>Units</th>\n",
    "        <th>Unit cost</th>\n",
    "      </tr>\n",
    "    </thead>\n",
    "    <tbody>\n",
    "      <tr>\n",
    "        <td>1/6/2018</td>\n",
    "        <td>East</td> \n",
    "        <td>Pencil</td>\n",
    "        <td>95</td>\n",
    "        <td>1.99</td>\n",
    "      </tr>\n",
    "      <tr>\n",
    "        <td>1/23/2018</td>\n",
    "        <td>Central</td> \n",
    "        <td>Binder</td>\n",
    "        <td>50</td>\n",
    "        <td>19.99</td>\n",
    "      </tr>\n",
    "      <tr>\n",
    "        <td>2/9/2018</td>\n",
    "        <td>Central</td> \n",
    "        <td>Pencil</td>\n",
    "        <td>36</td>\n",
    "        <td>4.99</td>\n",
    "      </tr>\n",
    "      <tr>\n",
    "        <td>3/15/2018</td>\n",
    "        <td>West</td> \n",
    "        <td>Pen</td>\n",
    "        <td>27</td>\n",
    "        <td>19.99</td>\n",
    "      </tr>\n",
    "    </tbody>\n",
    "</table>\n",
    "\"\"\""
   ]
  },
  {
   "cell_type": "code",
   "execution_count": 5,
   "id": "ec98020d-3577-4b5d-8866-ff786b663939",
   "metadata": {},
   "outputs": [
    {
     "name": "stderr",
     "output_type": "stream",
     "text": [
      "C:\\Users\\Rares\\AppData\\Local\\Temp\\ipykernel_2508\\2234146965.py:1: FutureWarning: Passing literal html to 'read_html' is deprecated and will be removed in a future version. To read from a literal string, wrap it in a 'StringIO' object.\n",
      "  dfs = pd.read_html(html_string)\n"
     ]
    }
   ],
   "source": [
    "dfs = pd.read_html(html_string)"
   ]
  },
  {
   "cell_type": "code",
   "execution_count": 6,
   "id": "4c2d78d8-136e-499e-8cf0-ae3a7275d417",
   "metadata": {},
   "outputs": [
    {
     "data": {
      "text/plain": [
       "1"
      ]
     },
     "execution_count": 6,
     "metadata": {},
     "output_type": "execute_result"
    }
   ],
   "source": [
    "len(dfs)"
   ]
  },
  {
   "cell_type": "code",
   "execution_count": 7,
   "id": "be543951-ab2f-4af3-8a2c-eedd2062a948",
   "metadata": {},
   "outputs": [
    {
     "data": {
      "text/html": [
       "<div>\n",
       "<style scoped>\n",
       "    .dataframe tbody tr th:only-of-type {\n",
       "        vertical-align: middle;\n",
       "    }\n",
       "\n",
       "    .dataframe tbody tr th {\n",
       "        vertical-align: top;\n",
       "    }\n",
       "\n",
       "    .dataframe thead th {\n",
       "        text-align: right;\n",
       "    }\n",
       "</style>\n",
       "<table border=\"1\" class=\"dataframe\">\n",
       "  <thead>\n",
       "    <tr style=\"text-align: right;\">\n",
       "      <th></th>\n",
       "      <th>Order date</th>\n",
       "      <th>Region</th>\n",
       "      <th>Item</th>\n",
       "      <th>Units</th>\n",
       "      <th>Unit cost</th>\n",
       "    </tr>\n",
       "  </thead>\n",
       "  <tbody>\n",
       "    <tr>\n",
       "      <th>0</th>\n",
       "      <td>1/6/2018</td>\n",
       "      <td>East</td>\n",
       "      <td>Pencil</td>\n",
       "      <td>95</td>\n",
       "      <td>1.99</td>\n",
       "    </tr>\n",
       "    <tr>\n",
       "      <th>1</th>\n",
       "      <td>1/23/2018</td>\n",
       "      <td>Central</td>\n",
       "      <td>Binder</td>\n",
       "      <td>50</td>\n",
       "      <td>19.99</td>\n",
       "    </tr>\n",
       "    <tr>\n",
       "      <th>2</th>\n",
       "      <td>2/9/2018</td>\n",
       "      <td>Central</td>\n",
       "      <td>Pencil</td>\n",
       "      <td>36</td>\n",
       "      <td>4.99</td>\n",
       "    </tr>\n",
       "    <tr>\n",
       "      <th>3</th>\n",
       "      <td>3/15/2018</td>\n",
       "      <td>West</td>\n",
       "      <td>Pen</td>\n",
       "      <td>27</td>\n",
       "      <td>19.99</td>\n",
       "    </tr>\n",
       "  </tbody>\n",
       "</table>\n",
       "</div>"
      ],
      "text/plain": [
       "  Order date   Region    Item  Units  Unit cost\n",
       "0   1/6/2018     East  Pencil     95       1.99\n",
       "1  1/23/2018  Central  Binder     50      19.99\n",
       "2   2/9/2018  Central  Pencil     36       4.99\n",
       "3  3/15/2018     West     Pen     27      19.99"
      ]
     },
     "execution_count": 7,
     "metadata": {},
     "output_type": "execute_result"
    }
   ],
   "source": [
    "df = dfs[0]\n",
    "\n",
    "df"
   ]
  },
  {
   "cell_type": "code",
   "execution_count": 8,
   "id": "b9c13bf1-1af8-4bcb-91b9-866bf2b52f78",
   "metadata": {},
   "outputs": [],
   "source": [
    "html_url = \"https://www.basketball-reference.com/leagues/NBA_2019_per_game.html\""
   ]
  },
  {
   "cell_type": "code",
   "execution_count": 9,
   "id": "c34a5129-6e44-4b47-a59f-943d776a3a7e",
   "metadata": {},
   "outputs": [],
   "source": [
    "nba_tables = pd.read_html(html_url)"
   ]
  },
  {
   "cell_type": "code",
   "execution_count": 10,
   "id": "09eb6f17-b9e7-4d60-ab12-f35f6f70c99a",
   "metadata": {},
   "outputs": [
    {
     "data": {
      "text/plain": [
       "1"
      ]
     },
     "execution_count": 10,
     "metadata": {},
     "output_type": "execute_result"
    }
   ],
   "source": [
    "len(nba_tables)"
   ]
  },
  {
   "cell_type": "code",
   "execution_count": 11,
   "id": "25d2af6a-24a9-4cbf-b739-a15b35781616",
   "metadata": {},
   "outputs": [],
   "source": [
    "nba = nba_tables[0]"
   ]
  },
  {
   "cell_type": "code",
   "execution_count": 12,
   "id": "0475e425-903c-4647-9931-567da666af04",
   "metadata": {},
   "outputs": [
    {
     "data": {
      "text/html": [
       "<div>\n",
       "<style scoped>\n",
       "    .dataframe tbody tr th:only-of-type {\n",
       "        vertical-align: middle;\n",
       "    }\n",
       "\n",
       "    .dataframe tbody tr th {\n",
       "        vertical-align: top;\n",
       "    }\n",
       "\n",
       "    .dataframe thead th {\n",
       "        text-align: right;\n",
       "    }\n",
       "</style>\n",
       "<table border=\"1\" class=\"dataframe\">\n",
       "  <thead>\n",
       "    <tr style=\"text-align: right;\">\n",
       "      <th></th>\n",
       "      <th>Rk</th>\n",
       "      <th>Player</th>\n",
       "      <th>Pos</th>\n",
       "      <th>Age</th>\n",
       "      <th>Tm</th>\n",
       "      <th>G</th>\n",
       "      <th>GS</th>\n",
       "      <th>MP</th>\n",
       "      <th>FG</th>\n",
       "      <th>FGA</th>\n",
       "      <th>...</th>\n",
       "      <th>FT%</th>\n",
       "      <th>ORB</th>\n",
       "      <th>DRB</th>\n",
       "      <th>TRB</th>\n",
       "      <th>AST</th>\n",
       "      <th>STL</th>\n",
       "      <th>BLK</th>\n",
       "      <th>TOV</th>\n",
       "      <th>PF</th>\n",
       "      <th>PTS</th>\n",
       "    </tr>\n",
       "  </thead>\n",
       "  <tbody>\n",
       "    <tr>\n",
       "      <th>0</th>\n",
       "      <td>1</td>\n",
       "      <td>Álex Abrines</td>\n",
       "      <td>SG</td>\n",
       "      <td>25</td>\n",
       "      <td>OKC</td>\n",
       "      <td>31</td>\n",
       "      <td>2</td>\n",
       "      <td>19.0</td>\n",
       "      <td>1.8</td>\n",
       "      <td>5.1</td>\n",
       "      <td>...</td>\n",
       "      <td>.923</td>\n",
       "      <td>0.2</td>\n",
       "      <td>1.4</td>\n",
       "      <td>1.5</td>\n",
       "      <td>0.6</td>\n",
       "      <td>0.5</td>\n",
       "      <td>0.2</td>\n",
       "      <td>0.5</td>\n",
       "      <td>1.7</td>\n",
       "      <td>5.3</td>\n",
       "    </tr>\n",
       "    <tr>\n",
       "      <th>1</th>\n",
       "      <td>2</td>\n",
       "      <td>Quincy Acy</td>\n",
       "      <td>PF</td>\n",
       "      <td>28</td>\n",
       "      <td>PHO</td>\n",
       "      <td>10</td>\n",
       "      <td>0</td>\n",
       "      <td>12.3</td>\n",
       "      <td>0.4</td>\n",
       "      <td>1.8</td>\n",
       "      <td>...</td>\n",
       "      <td>.700</td>\n",
       "      <td>0.3</td>\n",
       "      <td>2.2</td>\n",
       "      <td>2.5</td>\n",
       "      <td>0.8</td>\n",
       "      <td>0.1</td>\n",
       "      <td>0.4</td>\n",
       "      <td>0.4</td>\n",
       "      <td>2.4</td>\n",
       "      <td>1.7</td>\n",
       "    </tr>\n",
       "    <tr>\n",
       "      <th>2</th>\n",
       "      <td>3</td>\n",
       "      <td>Jaylen Adams</td>\n",
       "      <td>PG</td>\n",
       "      <td>22</td>\n",
       "      <td>ATL</td>\n",
       "      <td>34</td>\n",
       "      <td>1</td>\n",
       "      <td>12.6</td>\n",
       "      <td>1.1</td>\n",
       "      <td>3.2</td>\n",
       "      <td>...</td>\n",
       "      <td>.778</td>\n",
       "      <td>0.3</td>\n",
       "      <td>1.4</td>\n",
       "      <td>1.8</td>\n",
       "      <td>1.9</td>\n",
       "      <td>0.4</td>\n",
       "      <td>0.1</td>\n",
       "      <td>0.8</td>\n",
       "      <td>1.3</td>\n",
       "      <td>3.2</td>\n",
       "    </tr>\n",
       "    <tr>\n",
       "      <th>3</th>\n",
       "      <td>4</td>\n",
       "      <td>Steven Adams</td>\n",
       "      <td>C</td>\n",
       "      <td>25</td>\n",
       "      <td>OKC</td>\n",
       "      <td>80</td>\n",
       "      <td>80</td>\n",
       "      <td>33.4</td>\n",
       "      <td>6.0</td>\n",
       "      <td>10.1</td>\n",
       "      <td>...</td>\n",
       "      <td>.500</td>\n",
       "      <td>4.9</td>\n",
       "      <td>4.6</td>\n",
       "      <td>9.5</td>\n",
       "      <td>1.6</td>\n",
       "      <td>1.5</td>\n",
       "      <td>1.0</td>\n",
       "      <td>1.7</td>\n",
       "      <td>2.6</td>\n",
       "      <td>13.9</td>\n",
       "    </tr>\n",
       "    <tr>\n",
       "      <th>4</th>\n",
       "      <td>5</td>\n",
       "      <td>Bam Adebayo</td>\n",
       "      <td>C</td>\n",
       "      <td>21</td>\n",
       "      <td>MIA</td>\n",
       "      <td>82</td>\n",
       "      <td>28</td>\n",
       "      <td>23.3</td>\n",
       "      <td>3.4</td>\n",
       "      <td>5.9</td>\n",
       "      <td>...</td>\n",
       "      <td>.735</td>\n",
       "      <td>2.0</td>\n",
       "      <td>5.3</td>\n",
       "      <td>7.3</td>\n",
       "      <td>2.2</td>\n",
       "      <td>0.9</td>\n",
       "      <td>0.8</td>\n",
       "      <td>1.5</td>\n",
       "      <td>2.5</td>\n",
       "      <td>8.9</td>\n",
       "    </tr>\n",
       "  </tbody>\n",
       "</table>\n",
       "<p>5 rows × 30 columns</p>\n",
       "</div>"
      ],
      "text/plain": [
       "  Rk        Player Pos Age   Tm   G  GS    MP   FG   FGA  ...   FT%  ORB  DRB  \\\n",
       "0  1  Álex Abrines  SG  25  OKC  31   2  19.0  1.8   5.1  ...  .923  0.2  1.4   \n",
       "1  2    Quincy Acy  PF  28  PHO  10   0  12.3  0.4   1.8  ...  .700  0.3  2.2   \n",
       "2  3  Jaylen Adams  PG  22  ATL  34   1  12.6  1.1   3.2  ...  .778  0.3  1.4   \n",
       "3  4  Steven Adams   C  25  OKC  80  80  33.4  6.0  10.1  ...  .500  4.9  4.6   \n",
       "4  5   Bam Adebayo   C  21  MIA  82  28  23.3  3.4   5.9  ...  .735  2.0  5.3   \n",
       "\n",
       "   TRB  AST  STL  BLK  TOV   PF   PTS  \n",
       "0  1.5  0.6  0.5  0.2  0.5  1.7   5.3  \n",
       "1  2.5  0.8  0.1  0.4  0.4  2.4   1.7  \n",
       "2  1.8  1.9  0.4  0.1  0.8  1.3   3.2  \n",
       "3  9.5  1.6  1.5  1.0  1.7  2.6  13.9  \n",
       "4  7.3  2.2  0.9  0.8  1.5  2.5   8.9  \n",
       "\n",
       "[5 rows x 30 columns]"
      ]
     },
     "execution_count": 12,
     "metadata": {},
     "output_type": "execute_result"
    }
   ],
   "source": [
    "nba.head()"
   ]
  },
  {
   "cell_type": "code",
   "execution_count": 13,
   "id": "73dc2f05-e4a3-4141-9088-10d283d450a9",
   "metadata": {},
   "outputs": [],
   "source": [
    "import requests\n",
    "\n",
    "html_url = \"https://en.wikipedia.org/wiki/The_Simpsons\""
   ]
  },
  {
   "cell_type": "code",
   "execution_count": 14,
   "id": "3fa43dcb-aff2-4f1f-a0b6-b185484848dd",
   "metadata": {},
   "outputs": [
    {
     "name": "stderr",
     "output_type": "stream",
     "text": [
      "C:\\Users\\Rares\\AppData\\Local\\Temp\\ipykernel_2508\\1363786754.py:3: FutureWarning: Passing literal html to 'read_html' is deprecated and will be removed in a future version. To read from a literal string, wrap it in a 'StringIO' object.\n",
      "  wiki_tables = pd.read_html(r.text, header=0)\n"
     ]
    }
   ],
   "source": [
    "r = requests.get(html_url)\n",
    "\n",
    "wiki_tables = pd.read_html(r.text, header=0)"
   ]
  },
  {
   "cell_type": "code",
   "execution_count": 15,
   "id": "cd2ca882-ca79-4e9c-90b2-3bb7674e8d74",
   "metadata": {},
   "outputs": [
    {
     "data": {
      "text/plain": [
       "50"
      ]
     },
     "execution_count": 15,
     "metadata": {},
     "output_type": "execute_result"
    }
   ],
   "source": [
    "len(wiki_tables)"
   ]
  },
  {
   "cell_type": "code",
   "execution_count": 16,
   "id": "3ef7082e-2f4a-4840-a879-968a0bd0e3b1",
   "metadata": {},
   "outputs": [],
   "source": [
    "simpsons = wiki_tables[1]"
   ]
  },
  {
   "cell_type": "code",
   "execution_count": 17,
   "id": "92a43ede-5568-44fe-864f-00ee8017630d",
   "metadata": {},
   "outputs": [
    {
     "data": {
      "text/html": [
       "<div>\n",
       "<style scoped>\n",
       "    .dataframe tbody tr th:only-of-type {\n",
       "        vertical-align: middle;\n",
       "    }\n",
       "\n",
       "    .dataframe tbody tr th {\n",
       "        vertical-align: top;\n",
       "    }\n",
       "\n",
       "    .dataframe thead th {\n",
       "        text-align: right;\n",
       "    }\n",
       "</style>\n",
       "<table border=\"1\" class=\"dataframe\">\n",
       "  <thead>\n",
       "    <tr style=\"text-align: right;\">\n",
       "      <th></th>\n",
       "      <th>Cast members</th>\n",
       "      <th>Cast members.1</th>\n",
       "      <th>Cast members.2</th>\n",
       "      <th>Cast members.3</th>\n",
       "      <th>Cast members.4</th>\n",
       "      <th>Cast members.5</th>\n",
       "      <th>Cast members.6</th>\n",
       "      <th>Cast members.7</th>\n",
       "      <th>Cast members.8</th>\n",
       "    </tr>\n",
       "  </thead>\n",
       "  <tbody>\n",
       "    <tr>\n",
       "      <th>0</th>\n",
       "      <td>NaN</td>\n",
       "      <td>NaN</td>\n",
       "      <td>NaN</td>\n",
       "      <td>NaN</td>\n",
       "      <td>NaN</td>\n",
       "      <td>NaN</td>\n",
       "      <td>NaN</td>\n",
       "      <td>NaN</td>\n",
       "      <td>NaN</td>\n",
       "    </tr>\n",
       "    <tr>\n",
       "      <th>1</th>\n",
       "      <td>Dan Castellaneta</td>\n",
       "      <td>Julie Kavner</td>\n",
       "      <td>Nancy Cartwright</td>\n",
       "      <td>Yeardley Smith</td>\n",
       "      <td>Hank Azaria</td>\n",
       "      <td>Harry Shearer</td>\n",
       "      <td>NaN</td>\n",
       "      <td>NaN</td>\n",
       "      <td>NaN</td>\n",
       "    </tr>\n",
       "    <tr>\n",
       "      <th>2</th>\n",
       "      <td>Homer Simpson, Abe Simpson, Krusty the Clown, ...</td>\n",
       "      <td>Marge Simpson, Patty and Selma Bouvier, additi...</td>\n",
       "      <td>Bart Simpson, Maggie Simpson, various characters</td>\n",
       "      <td>Lisa Simpson</td>\n",
       "      <td>Moe Szyslak, Chief Wiggum, Apu Nahasapeemapeti...</td>\n",
       "      <td>Ned Flanders, Mr. Burns, Dr. Hibbert (1990–202...</td>\n",
       "      <td>NaN</td>\n",
       "      <td>NaN</td>\n",
       "      <td>NaN</td>\n",
       "    </tr>\n",
       "  </tbody>\n",
       "</table>\n",
       "</div>"
      ],
      "text/plain": [
       "                                        Cast members  \\\n",
       "0                                                NaN   \n",
       "1                                   Dan Castellaneta   \n",
       "2  Homer Simpson, Abe Simpson, Krusty the Clown, ...   \n",
       "\n",
       "                                      Cast members.1  \\\n",
       "0                                                NaN   \n",
       "1                                       Julie Kavner   \n",
       "2  Marge Simpson, Patty and Selma Bouvier, additi...   \n",
       "\n",
       "                                     Cast members.2  Cast members.3  \\\n",
       "0                                               NaN             NaN   \n",
       "1                                  Nancy Cartwright  Yeardley Smith   \n",
       "2  Bart Simpson, Maggie Simpson, various characters    Lisa Simpson   \n",
       "\n",
       "                                      Cast members.4  \\\n",
       "0                                                NaN   \n",
       "1                                        Hank Azaria   \n",
       "2  Moe Szyslak, Chief Wiggum, Apu Nahasapeemapeti...   \n",
       "\n",
       "                                      Cast members.5  Cast members.6  \\\n",
       "0                                                NaN             NaN   \n",
       "1                                      Harry Shearer             NaN   \n",
       "2  Ned Flanders, Mr. Burns, Dr. Hibbert (1990–202...             NaN   \n",
       "\n",
       "   Cast members.7  Cast members.8  \n",
       "0             NaN             NaN  \n",
       "1             NaN             NaN  \n",
       "2             NaN             NaN  "
      ]
     },
     "execution_count": 17,
     "metadata": {},
     "output_type": "execute_result"
    }
   ],
   "source": [
    "simpsons.head()"
   ]
  }
 ],
 "metadata": {
  "kernelspec": {
   "display_name": "Python 3 (ipykernel)",
   "language": "python",
   "name": "python3"
  },
  "language_info": {
   "codemirror_mode": {
    "name": "ipython",
    "version": 3
   },
   "file_extension": ".py",
   "mimetype": "text/x-python",
   "name": "python",
   "nbconvert_exporter": "python",
   "pygments_lexer": "ipython3",
   "version": "3.10.11"
  }
 },
 "nbformat": 4,
 "nbformat_minor": 5
}
