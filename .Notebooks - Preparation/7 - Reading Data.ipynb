{
 "cells": [
  {
   "cell_type": "code",
   "execution_count": 1,
   "id": "338ffe74-b1c9-4ed5-8c79-e20df91a6553",
   "metadata": {},
   "outputs": [],
   "source": [
    "import pandas as pd"
   ]
  },
  {
   "cell_type": "code",
   "execution_count": 2,
   "id": "15122e11-c31d-4094-9f93-bdf589e9d724",
   "metadata": {},
   "outputs": [],
   "source": [
    "#CSV and TXT files"
   ]
  },
  {
   "cell_type": "code",
   "execution_count": null,
   "id": "f36a348f-d3cb-4410-8c0c-67bc9cde3f72",
   "metadata": {},
   "outputs": [],
   "source": [
    "with open('x.cs', 'r') as fp:\n",
    "    for index, line in enumerate(fp.readlines()):\n",
    "        #read just the first 10 lines\n",
    "        if(index < 10):\n",
    "            print(index, line)"
   ]
  },
  {
   "cell_type": "code",
   "execution_count": 5,
   "id": "8bcb7d9e-b952-4686-9387-3a6702b62073",
   "metadata": {},
   "outputs": [],
   "source": [
    "import csv"
   ]
  },
  {
   "cell_type": "code",
   "execution_count": 6,
   "id": "ca4b3b6d-5317-4e1c-9e5c-e2cc597fe7bb",
   "metadata": {},
   "outputs": [],
   "source": [
    "#reader = csv.reader(fp)\n",
    "#reader = csv.reader(fp, delimiter='>')"
   ]
  },
  {
   "cell_type": "code",
   "execution_count": null,
   "id": "5b179552-ae7f-4a13-b631-44c68a078be7",
   "metadata": {},
   "outputs": [],
   "source": [
    "with open('x.csv', 'r') as fp:\n",
    "    reader = csv.reader(fp)\n",
    "    next(reader) # skipping header\n",
    "    for index, values in enumerate(reader):\n",
    "        if not values:\n",
    "            countinue\n",
    "        fname, lname, age, math, french = values\n",
    "        print(f\"{fname} {lname} (age {age}) got {math} in Math and {french} in French\")"
   ]
  },
  {
   "cell_type": "code",
   "execution_count": null,
   "id": "faee1193-59c4-430c-95e6-eb8be7aeb8e1",
   "metadata": {},
   "outputs": [],
   "source": [
    "pd.read_csv?"
   ]
  },
  {
   "cell_type": "code",
   "execution_count": 13,
   "id": "8b65366c-d4a4-4086-8bc4-0897e5564119",
   "metadata": {},
   "outputs": [
    {
     "data": {
      "text/html": [
       "<div>\n",
       "<style scoped>\n",
       "    .dataframe tbody tr th:only-of-type {\n",
       "        vertical-align: middle;\n",
       "    }\n",
       "\n",
       "    .dataframe tbody tr th {\n",
       "        vertical-align: top;\n",
       "    }\n",
       "\n",
       "    .dataframe thead th {\n",
       "        text-align: right;\n",
       "    }\n",
       "</style>\n",
       "<table border=\"1\" class=\"dataframe\">\n",
       "  <thead>\n",
       "    <tr style=\"text-align: right;\">\n",
       "      <th></th>\n",
       "      <th>Country Name</th>\n",
       "      <th>Country Code</th>\n",
       "      <th>Year</th>\n",
       "      <th>Value</th>\n",
       "    </tr>\n",
       "  </thead>\n",
       "  <tbody>\n",
       "    <tr>\n",
       "      <th>0</th>\n",
       "      <td>Arab World</td>\n",
       "      <td>ARB</td>\n",
       "      <td>1968</td>\n",
       "      <td>2.576068e+10</td>\n",
       "    </tr>\n",
       "    <tr>\n",
       "      <th>1</th>\n",
       "      <td>Arab World</td>\n",
       "      <td>ARB</td>\n",
       "      <td>1969</td>\n",
       "      <td>2.843420e+10</td>\n",
       "    </tr>\n",
       "    <tr>\n",
       "      <th>2</th>\n",
       "      <td>Arab World</td>\n",
       "      <td>ARB</td>\n",
       "      <td>1970</td>\n",
       "      <td>3.138550e+10</td>\n",
       "    </tr>\n",
       "    <tr>\n",
       "      <th>3</th>\n",
       "      <td>Arab World</td>\n",
       "      <td>ARB</td>\n",
       "      <td>1971</td>\n",
       "      <td>3.642691e+10</td>\n",
       "    </tr>\n",
       "    <tr>\n",
       "      <th>4</th>\n",
       "      <td>Arab World</td>\n",
       "      <td>ARB</td>\n",
       "      <td>1972</td>\n",
       "      <td>4.331606e+10</td>\n",
       "    </tr>\n",
       "  </tbody>\n",
       "</table>\n",
       "</div>"
      ],
      "text/plain": [
       "  Country Name Country Code  Year         Value\n",
       "0   Arab World          ARB  1968  2.576068e+10\n",
       "1   Arab World          ARB  1969  2.843420e+10\n",
       "2   Arab World          ARB  1970  3.138550e+10\n",
       "3   Arab World          ARB  1971  3.642691e+10\n",
       "4   Arab World          ARB  1972  4.331606e+10"
      ]
     },
     "execution_count": 13,
     "metadata": {},
     "output_type": "execute_result"
    }
   ],
   "source": [
    "csv_url = \"https://raw.githubusercontent.com/datasets/gdp/master/data/gdp.csv\"\n",
    "\n",
    "pd.read_csv(csv_url).head()"
   ]
  },
  {
   "cell_type": "code",
   "execution_count": 14,
   "id": "308aa3df-cd91-4f4f-a92f-7cc4912dbe9f",
   "metadata": {},
   "outputs": [
    {
     "data": {
      "text/html": [
       "<div>\n",
       "<style scoped>\n",
       "    .dataframe tbody tr th:only-of-type {\n",
       "        vertical-align: middle;\n",
       "    }\n",
       "\n",
       "    .dataframe tbody tr th {\n",
       "        vertical-align: top;\n",
       "    }\n",
       "\n",
       "    .dataframe thead th {\n",
       "        text-align: right;\n",
       "    }\n",
       "</style>\n",
       "<table border=\"1\" class=\"dataframe\">\n",
       "  <thead>\n",
       "    <tr style=\"text-align: right;\">\n",
       "      <th></th>\n",
       "      <th>2017-04-02 00:00:00</th>\n",
       "      <th>1099.169125</th>\n",
       "    </tr>\n",
       "  </thead>\n",
       "  <tbody>\n",
       "    <tr>\n",
       "      <th>0</th>\n",
       "      <td>2017-04-03 00:00:00</td>\n",
       "      <td>1141.813000</td>\n",
       "    </tr>\n",
       "    <tr>\n",
       "      <th>1</th>\n",
       "      <td>2017-04-04 00:00:00</td>\n",
       "      <td>1141.600363</td>\n",
       "    </tr>\n",
       "    <tr>\n",
       "      <th>2</th>\n",
       "      <td>2017-04-05 00:00:00</td>\n",
       "      <td>1133.079314</td>\n",
       "    </tr>\n",
       "    <tr>\n",
       "      <th>3</th>\n",
       "      <td>2017-04-06 00:00:00</td>\n",
       "      <td>1196.307937</td>\n",
       "    </tr>\n",
       "    <tr>\n",
       "      <th>4</th>\n",
       "      <td>2017-04-07 00:00:00</td>\n",
       "      <td>1190.454250</td>\n",
       "    </tr>\n",
       "  </tbody>\n",
       "</table>\n",
       "</div>"
      ],
      "text/plain": [
       "   2017-04-02 00:00:00  1099.169125\n",
       "0  2017-04-03 00:00:00  1141.813000\n",
       "1  2017-04-04 00:00:00  1141.600363\n",
       "2  2017-04-05 00:00:00  1133.079314\n",
       "3  2017-04-06 00:00:00  1196.307937\n",
       "4  2017-04-07 00:00:00  1190.454250"
      ]
     },
     "execution_count": 14,
     "metadata": {},
     "output_type": "execute_result"
    }
   ],
   "source": [
    "df = pd.read_csv('data/btc-market-price.csv')\n",
    "\n",
    "df.head()"
   ]
  },
  {
   "cell_type": "code",
   "execution_count": 17,
   "id": "168bb072-1cde-46ed-b43f-00d35019922b",
   "metadata": {},
   "outputs": [],
   "source": [
    "df = pd.read_csv('data/btc-market-price.csv',\n",
    "                 header=None)"
   ]
  },
  {
   "cell_type": "code",
   "execution_count": 18,
   "id": "3c683aa9-facf-4812-a63e-56d503d413d4",
   "metadata": {},
   "outputs": [
    {
     "data": {
      "text/html": [
       "<div>\n",
       "<style scoped>\n",
       "    .dataframe tbody tr th:only-of-type {\n",
       "        vertical-align: middle;\n",
       "    }\n",
       "\n",
       "    .dataframe tbody tr th {\n",
       "        vertical-align: top;\n",
       "    }\n",
       "\n",
       "    .dataframe thead th {\n",
       "        text-align: right;\n",
       "    }\n",
       "</style>\n",
       "<table border=\"1\" class=\"dataframe\">\n",
       "  <thead>\n",
       "    <tr style=\"text-align: right;\">\n",
       "      <th></th>\n",
       "      <th>0</th>\n",
       "      <th>1</th>\n",
       "    </tr>\n",
       "  </thead>\n",
       "  <tbody>\n",
       "    <tr>\n",
       "      <th>0</th>\n",
       "      <td>2017-04-02 00:00:00</td>\n",
       "      <td>1099.169125</td>\n",
       "    </tr>\n",
       "    <tr>\n",
       "      <th>1</th>\n",
       "      <td>2017-04-03 00:00:00</td>\n",
       "      <td>1141.813000</td>\n",
       "    </tr>\n",
       "    <tr>\n",
       "      <th>2</th>\n",
       "      <td>2017-04-04 00:00:00</td>\n",
       "      <td>1141.600363</td>\n",
       "    </tr>\n",
       "    <tr>\n",
       "      <th>3</th>\n",
       "      <td>2017-04-05 00:00:00</td>\n",
       "      <td>1133.079314</td>\n",
       "    </tr>\n",
       "    <tr>\n",
       "      <th>4</th>\n",
       "      <td>2017-04-06 00:00:00</td>\n",
       "      <td>1196.307937</td>\n",
       "    </tr>\n",
       "  </tbody>\n",
       "</table>\n",
       "</div>"
      ],
      "text/plain": [
       "                     0            1\n",
       "0  2017-04-02 00:00:00  1099.169125\n",
       "1  2017-04-03 00:00:00  1141.813000\n",
       "2  2017-04-04 00:00:00  1141.600363\n",
       "3  2017-04-05 00:00:00  1133.079314\n",
       "4  2017-04-06 00:00:00  1196.307937"
      ]
     },
     "execution_count": 18,
     "metadata": {},
     "output_type": "execute_result"
    }
   ],
   "source": [
    "df.head()"
   ]
  },
  {
   "cell_type": "code",
   "execution_count": 21,
   "id": "dee0aa1b-de8d-4562-a021-b740857b3ab2",
   "metadata": {},
   "outputs": [],
   "source": [
    "#set NaN values\n",
    "df = pd.read_csv('data/btc-market-price.csv',\n",
    "                 header=None,\n",
    "                 na_values=['', '?', '-'])"
   ]
  },
  {
   "cell_type": "code",
   "execution_count": 20,
   "id": "01e24139-3149-4121-ab29-792b32f580f9",
   "metadata": {},
   "outputs": [
    {
     "data": {
      "text/html": [
       "<div>\n",
       "<style scoped>\n",
       "    .dataframe tbody tr th:only-of-type {\n",
       "        vertical-align: middle;\n",
       "    }\n",
       "\n",
       "    .dataframe tbody tr th {\n",
       "        vertical-align: top;\n",
       "    }\n",
       "\n",
       "    .dataframe thead th {\n",
       "        text-align: right;\n",
       "    }\n",
       "</style>\n",
       "<table border=\"1\" class=\"dataframe\">\n",
       "  <thead>\n",
       "    <tr style=\"text-align: right;\">\n",
       "      <th></th>\n",
       "      <th>0</th>\n",
       "      <th>1</th>\n",
       "    </tr>\n",
       "  </thead>\n",
       "  <tbody>\n",
       "    <tr>\n",
       "      <th>0</th>\n",
       "      <td>2017-04-02 00:00:00</td>\n",
       "      <td>1099.169125</td>\n",
       "    </tr>\n",
       "    <tr>\n",
       "      <th>1</th>\n",
       "      <td>2017-04-03 00:00:00</td>\n",
       "      <td>1141.813000</td>\n",
       "    </tr>\n",
       "    <tr>\n",
       "      <th>2</th>\n",
       "      <td>2017-04-04 00:00:00</td>\n",
       "      <td>1141.600363</td>\n",
       "    </tr>\n",
       "    <tr>\n",
       "      <th>3</th>\n",
       "      <td>2017-04-05 00:00:00</td>\n",
       "      <td>1133.079314</td>\n",
       "    </tr>\n",
       "    <tr>\n",
       "      <th>4</th>\n",
       "      <td>2017-04-06 00:00:00</td>\n",
       "      <td>1196.307937</td>\n",
       "    </tr>\n",
       "  </tbody>\n",
       "</table>\n",
       "</div>"
      ],
      "text/plain": [
       "                     0            1\n",
       "0  2017-04-02 00:00:00  1099.169125\n",
       "1  2017-04-03 00:00:00  1141.813000\n",
       "2  2017-04-04 00:00:00  1141.600363\n",
       "3  2017-04-05 00:00:00  1133.079314\n",
       "4  2017-04-06 00:00:00  1196.307937"
      ]
     },
     "execution_count": 20,
     "metadata": {},
     "output_type": "execute_result"
    }
   ],
   "source": [
    "df.head()"
   ]
  },
  {
   "cell_type": "code",
   "execution_count": 23,
   "id": "1a4ea105-b734-456e-b7f1-54e681722183",
   "metadata": {},
   "outputs": [],
   "source": [
    "df = pd.read_csv('data/btc-market-price.csv',\n",
    "                 header=None,\n",
    "                 na_values=['', '?', '-'],\n",
    "                 names=['Timestamp', 'Price'],\n",
    "                 dtype={'Price': 'float'})"
   ]
  },
  {
   "cell_type": "code",
   "execution_count": 24,
   "id": "f30e0384-01cb-41ab-b620-e69742f41635",
   "metadata": {},
   "outputs": [
    {
     "data": {
      "text/html": [
       "<div>\n",
       "<style scoped>\n",
       "    .dataframe tbody tr th:only-of-type {\n",
       "        vertical-align: middle;\n",
       "    }\n",
       "\n",
       "    .dataframe tbody tr th {\n",
       "        vertical-align: top;\n",
       "    }\n",
       "\n",
       "    .dataframe thead th {\n",
       "        text-align: right;\n",
       "    }\n",
       "</style>\n",
       "<table border=\"1\" class=\"dataframe\">\n",
       "  <thead>\n",
       "    <tr style=\"text-align: right;\">\n",
       "      <th></th>\n",
       "      <th>Timestamp</th>\n",
       "      <th>Price</th>\n",
       "    </tr>\n",
       "  </thead>\n",
       "  <tbody>\n",
       "    <tr>\n",
       "      <th>0</th>\n",
       "      <td>2017-04-02 00:00:00</td>\n",
       "      <td>1099.169125</td>\n",
       "    </tr>\n",
       "    <tr>\n",
       "      <th>1</th>\n",
       "      <td>2017-04-03 00:00:00</td>\n",
       "      <td>1141.813000</td>\n",
       "    </tr>\n",
       "    <tr>\n",
       "      <th>2</th>\n",
       "      <td>2017-04-04 00:00:00</td>\n",
       "      <td>1141.600363</td>\n",
       "    </tr>\n",
       "    <tr>\n",
       "      <th>3</th>\n",
       "      <td>2017-04-05 00:00:00</td>\n",
       "      <td>1133.079314</td>\n",
       "    </tr>\n",
       "    <tr>\n",
       "      <th>4</th>\n",
       "      <td>2017-04-06 00:00:00</td>\n",
       "      <td>1196.307937</td>\n",
       "    </tr>\n",
       "  </tbody>\n",
       "</table>\n",
       "</div>"
      ],
      "text/plain": [
       "             Timestamp        Price\n",
       "0  2017-04-02 00:00:00  1099.169125\n",
       "1  2017-04-03 00:00:00  1141.813000\n",
       "2  2017-04-04 00:00:00  1141.600363\n",
       "3  2017-04-05 00:00:00  1133.079314\n",
       "4  2017-04-06 00:00:00  1196.307937"
      ]
     },
     "execution_count": 24,
     "metadata": {},
     "output_type": "execute_result"
    }
   ],
   "source": [
    "df.head()"
   ]
  },
  {
   "cell_type": "code",
   "execution_count": 25,
   "id": "bad324ae-a21f-4374-8f90-2124c640200f",
   "metadata": {},
   "outputs": [],
   "source": [
    "#Databases - SQL"
   ]
  },
  {
   "cell_type": "code",
   "execution_count": 26,
   "id": "4e980de5-879c-4fd5-b281-6ee881c87202",
   "metadata": {},
   "outputs": [],
   "source": [
    "import sqlite3"
   ]
  },
  {
   "cell_type": "code",
   "execution_count": 28,
   "id": "7203de3b-d8cf-4518-8f7d-d13d3eacad5f",
   "metadata": {},
   "outputs": [],
   "source": [
    "conn = sqlite3.connect('x.db')"
   ]
  },
  {
   "cell_type": "code",
   "execution_count": 29,
   "id": "64e394d3-819a-458c-a679-73d902e50e5f",
   "metadata": {},
   "outputs": [],
   "source": [
    "cur = conn.cursor()"
   ]
  },
  {
   "cell_type": "code",
   "execution_count": null,
   "id": "ac3fb2a7-f14c-43cf-95c6-9597f0bca374",
   "metadata": {},
   "outputs": [],
   "source": [
    "cur.execute('SELECT * FROM employees LIMIT 5;')"
   ]
  },
  {
   "cell_type": "code",
   "execution_count": null,
   "id": "9e40c4b7-fdd5-4eff-89ee-d27351890c2b",
   "metadata": {},
   "outputs": [],
   "source": [
    "results = cur.fetchall()"
   ]
  },
  {
   "cell_type": "code",
   "execution_count": null,
   "id": "48b4e82d-e543-42df-9901-eab80768e74e",
   "metadata": {},
   "outputs": [],
   "source": [
    "results"
   ]
  },
  {
   "cell_type": "code",
   "execution_count": null,
   "id": "ea0b2ab0-1b62-4c53-ad78-9642a18c0d5f",
   "metadata": {},
   "outputs": [],
   "source": [
    "df = pd.DataFrame(results)"
   ]
  },
  {
   "cell_type": "code",
   "execution_count": null,
   "id": "bb61f304-c3c8-48a6-a34a-61751c7bdab1",
   "metadata": {},
   "outputs": [],
   "source": [
    "df.head()"
   ]
  },
  {
   "cell_type": "code",
   "execution_count": null,
   "id": "0cba86ec-ecf5-498e-af1d-484032423e3b",
   "metadata": {},
   "outputs": [],
   "source": [
    "cur.close()\n",
    "conn.close()"
   ]
  },
  {
   "cell_type": "code",
   "execution_count": 31,
   "id": "516e33f4-a015-44e8-85e3-51cba5aac103",
   "metadata": {},
   "outputs": [],
   "source": [
    "#Pandas method"
   ]
  },
  {
   "cell_type": "code",
   "execution_count": null,
   "id": "8edb4efa-4c00-43e3-884d-9c6ce1b87759",
   "metadata": {},
   "outputs": [],
   "source": [
    "conn = sqlite3.connect('x.db')"
   ]
  },
  {
   "cell_type": "code",
   "execution_count": null,
   "id": "c1ea8eab-ee9e-43a9-b24b-b07443dc2895",
   "metadata": {},
   "outputs": [],
   "source": [
    "df = pd.read_sql('SELECT * FROM employees;', conn)"
   ]
  },
  {
   "cell_type": "code",
   "execution_count": null,
   "id": "85d80730-833a-4e80-a7ba-7b1d5a24f003",
   "metadata": {},
   "outputs": [],
   "source": [
    "df.head()"
   ]
  },
  {
   "cell_type": "code",
   "execution_count": null,
   "id": "fc9b4217-aa52-497f-a969-fce2b7686e75",
   "metadata": {},
   "outputs": [],
   "source": [
    "df = pd.read_sql('SELECT * FROM employees;', conn,\n",
    "                 index_col='EmployeeId',\n",
    "                 parse_dates=['BirthDate', 'HireDate'])"
   ]
  },
  {
   "cell_type": "code",
   "execution_count": null,
   "id": "4a922715-ef66-48c7-982d-d33525673201",
   "metadata": {},
   "outputs": [],
   "source": [
    "df.head()"
   ]
  },
  {
   "cell_type": "code",
   "execution_count": 33,
   "id": "5ce9eb30-01c3-406c-aa0e-baeb40b6728a",
   "metadata": {},
   "outputs": [],
   "source": [
    "from sqlalchemy import create_engine"
   ]
  },
  {
   "cell_type": "code",
   "execution_count": null,
   "id": "0f038a1f-9ff8-49b6-a5ac-8c519fbfa789",
   "metadata": {},
   "outputs": [],
   "source": [
    "engine = create_engine('sqlite:///x.db')\n",
    "\n",
    "connection = engine.connect()"
   ]
  },
  {
   "cell_type": "code",
   "execution_count": null,
   "id": "0ca45754-092b-46a2-8d08-4fa68117bcdd",
   "metadata": {},
   "outputs": [],
   "source": [
    "df = pd.read_sql_table('employees', con=connection)"
   ]
  },
  {
   "cell_type": "code",
   "execution_count": null,
   "id": "826a229d-b42e-42a0-816c-5b8eb742a06f",
   "metadata": {},
   "outputs": [],
   "source": [
    "df.head()"
   ]
  },
  {
   "cell_type": "code",
   "execution_count": null,
   "id": "375040a0-cc82-4d70-9022-bc1937e841d2",
   "metadata": {},
   "outputs": [],
   "source": [
    "connection.close()"
   ]
  },
  {
   "cell_type": "code",
   "execution_count": 34,
   "id": "c49f2cb7-b33a-47d6-8c01-33388aba14c5",
   "metadata": {},
   "outputs": [
    {
     "data": {
      "text/plain": [
       "\u001b[1;31mSignature:\u001b[0m\n",
       "\u001b[0mdf\u001b[0m\u001b[1;33m.\u001b[0m\u001b[0mto_sql\u001b[0m\u001b[1;33m(\u001b[0m\u001b[1;33m\n",
       "\u001b[0m    \u001b[0mname\u001b[0m\u001b[1;33m:\u001b[0m \u001b[1;34m'str'\u001b[0m\u001b[1;33m,\u001b[0m\u001b[1;33m\n",
       "\u001b[0m    \u001b[0mcon\u001b[0m\u001b[1;33m,\u001b[0m\u001b[1;33m\n",
       "\u001b[0m    \u001b[1;33m*\u001b[0m\u001b[1;33m,\u001b[0m\u001b[1;33m\n",
       "\u001b[0m    \u001b[0mschema\u001b[0m\u001b[1;33m:\u001b[0m \u001b[1;34m'str | None'\u001b[0m \u001b[1;33m=\u001b[0m \u001b[1;32mNone\u001b[0m\u001b[1;33m,\u001b[0m\u001b[1;33m\n",
       "\u001b[0m    \u001b[0mif_exists\u001b[0m\u001b[1;33m:\u001b[0m \u001b[1;34m\"Literal['fail', 'replace', 'append']\"\u001b[0m \u001b[1;33m=\u001b[0m \u001b[1;34m'fail'\u001b[0m\u001b[1;33m,\u001b[0m\u001b[1;33m\n",
       "\u001b[0m    \u001b[0mindex\u001b[0m\u001b[1;33m:\u001b[0m \u001b[1;34m'bool_t'\u001b[0m \u001b[1;33m=\u001b[0m \u001b[1;32mTrue\u001b[0m\u001b[1;33m,\u001b[0m\u001b[1;33m\n",
       "\u001b[0m    \u001b[0mindex_label\u001b[0m\u001b[1;33m:\u001b[0m \u001b[1;34m'IndexLabel | None'\u001b[0m \u001b[1;33m=\u001b[0m \u001b[1;32mNone\u001b[0m\u001b[1;33m,\u001b[0m\u001b[1;33m\n",
       "\u001b[0m    \u001b[0mchunksize\u001b[0m\u001b[1;33m:\u001b[0m \u001b[1;34m'int | None'\u001b[0m \u001b[1;33m=\u001b[0m \u001b[1;32mNone\u001b[0m\u001b[1;33m,\u001b[0m\u001b[1;33m\n",
       "\u001b[0m    \u001b[0mdtype\u001b[0m\u001b[1;33m:\u001b[0m \u001b[1;34m'DtypeArg | None'\u001b[0m \u001b[1;33m=\u001b[0m \u001b[1;32mNone\u001b[0m\u001b[1;33m,\u001b[0m\u001b[1;33m\n",
       "\u001b[0m    \u001b[0mmethod\u001b[0m\u001b[1;33m:\u001b[0m \u001b[1;34m\"Literal['multi'] | Callable | None\"\u001b[0m \u001b[1;33m=\u001b[0m \u001b[1;32mNone\u001b[0m\u001b[1;33m,\u001b[0m\u001b[1;33m\n",
       "\u001b[0m\u001b[1;33m)\u001b[0m \u001b[1;33m->\u001b[0m \u001b[1;34m'int | None'\u001b[0m\u001b[1;33m\u001b[0m\u001b[1;33m\u001b[0m\u001b[0m\n",
       "\u001b[1;31mDocstring:\u001b[0m\n",
       "Write records stored in a DataFrame to a SQL database.\n",
       "\n",
       "Databases supported by SQLAlchemy [1]_ are supported. Tables can be\n",
       "newly created, appended to, or overwritten.\n",
       "\n",
       "Parameters\n",
       "----------\n",
       "name : str\n",
       "    Name of SQL table.\n",
       "con : sqlalchemy.engine.(Engine or Connection) or sqlite3.Connection\n",
       "    Using SQLAlchemy makes it possible to use any DB supported by that\n",
       "    library. Legacy support is provided for sqlite3.Connection objects. The user\n",
       "    is responsible for engine disposal and connection closure for the SQLAlchemy\n",
       "    connectable. See `here                 <https://docs.sqlalchemy.org/en/20/core/connections.html>`_.\n",
       "    If passing a sqlalchemy.engine.Connection which is already in a transaction,\n",
       "    the transaction will not be committed.  If passing a sqlite3.Connection,\n",
       "    it will not be possible to roll back the record insertion.\n",
       "\n",
       "schema : str, optional\n",
       "    Specify the schema (if database flavor supports this). If None, use\n",
       "    default schema.\n",
       "if_exists : {'fail', 'replace', 'append'}, default 'fail'\n",
       "    How to behave if the table already exists.\n",
       "\n",
       "    * fail: Raise a ValueError.\n",
       "    * replace: Drop the table before inserting new values.\n",
       "    * append: Insert new values to the existing table.\n",
       "\n",
       "index : bool, default True\n",
       "    Write DataFrame index as a column. Uses `index_label` as the column\n",
       "    name in the table.\n",
       "index_label : str or sequence, default None\n",
       "    Column label for index column(s). If None is given (default) and\n",
       "    `index` is True, then the index names are used.\n",
       "    A sequence should be given if the DataFrame uses MultiIndex.\n",
       "chunksize : int, optional\n",
       "    Specify the number of rows in each batch to be written at a time.\n",
       "    By default, all rows will be written at once.\n",
       "dtype : dict or scalar, optional\n",
       "    Specifying the datatype for columns. If a dictionary is used, the\n",
       "    keys should be the column names and the values should be the\n",
       "    SQLAlchemy types or strings for the sqlite3 legacy mode. If a\n",
       "    scalar is provided, it will be applied to all columns.\n",
       "method : {None, 'multi', callable}, optional\n",
       "    Controls the SQL insertion clause used:\n",
       "\n",
       "    * None : Uses standard SQL ``INSERT`` clause (one per row).\n",
       "    * 'multi': Pass multiple values in a single ``INSERT`` clause.\n",
       "    * callable with signature ``(pd_table, conn, keys, data_iter)``.\n",
       "\n",
       "    Details and a sample callable implementation can be found in the\n",
       "    section :ref:`insert method <io.sql.method>`.\n",
       "\n",
       "Returns\n",
       "-------\n",
       "None or int\n",
       "    Number of rows affected by to_sql. None is returned if the callable\n",
       "    passed into ``method`` does not return an integer number of rows.\n",
       "\n",
       "    The number of returned rows affected is the sum of the ``rowcount``\n",
       "    attribute of ``sqlite3.Cursor`` or SQLAlchemy connectable which may not\n",
       "    reflect the exact number of written rows as stipulated in the\n",
       "    `sqlite3 <https://docs.python.org/3/library/sqlite3.html#sqlite3.Cursor.rowcount>`__ or\n",
       "    `SQLAlchemy <https://docs.sqlalchemy.org/en/20/core/connections.html#sqlalchemy.engine.CursorResult.rowcount>`__.\n",
       "\n",
       "    .. versionadded:: 1.4.0\n",
       "\n",
       "Raises\n",
       "------\n",
       "ValueError\n",
       "    When the table already exists and `if_exists` is 'fail' (the\n",
       "    default).\n",
       "\n",
       "See Also\n",
       "--------\n",
       "read_sql : Read a DataFrame from a table.\n",
       "\n",
       "Notes\n",
       "-----\n",
       "Timezone aware datetime columns will be written as\n",
       "``Timestamp with timezone`` type with SQLAlchemy if supported by the\n",
       "database. Otherwise, the datetimes will be stored as timezone unaware\n",
       "timestamps local to the original timezone.\n",
       "\n",
       "References\n",
       "----------\n",
       ".. [1] https://docs.sqlalchemy.org\n",
       ".. [2] https://www.python.org/dev/peps/pep-0249/\n",
       "\n",
       "Examples\n",
       "--------\n",
       "Create an in-memory SQLite database.\n",
       "\n",
       ">>> from sqlalchemy import create_engine\n",
       ">>> engine = create_engine('sqlite://', echo=False)\n",
       "\n",
       "Create a table from scratch with 3 rows.\n",
       "\n",
       ">>> df = pd.DataFrame({'name' : ['User 1', 'User 2', 'User 3']})\n",
       ">>> df\n",
       "     name\n",
       "0  User 1\n",
       "1  User 2\n",
       "2  User 3\n",
       "\n",
       ">>> df.to_sql(name='users', con=engine)\n",
       "3\n",
       ">>> from sqlalchemy import text\n",
       ">>> with engine.connect() as conn:\n",
       "...    conn.execute(text(\"SELECT * FROM users\")).fetchall()\n",
       "[(0, 'User 1'), (1, 'User 2'), (2, 'User 3')]\n",
       "\n",
       "An `sqlalchemy.engine.Connection` can also be passed to `con`:\n",
       "\n",
       ">>> with engine.begin() as connection:\n",
       "...     df1 = pd.DataFrame({'name' : ['User 4', 'User 5']})\n",
       "...     df1.to_sql(name='users', con=connection, if_exists='append')\n",
       "2\n",
       "\n",
       "This is allowed to support operations that require that the same\n",
       "DBAPI connection is used for the entire operation.\n",
       "\n",
       ">>> df2 = pd.DataFrame({'name' : ['User 6', 'User 7']})\n",
       ">>> df2.to_sql(name='users', con=engine, if_exists='append')\n",
       "2\n",
       ">>> with engine.connect() as conn:\n",
       "...    conn.execute(text(\"SELECT * FROM users\")).fetchall()\n",
       "[(0, 'User 1'), (1, 'User 2'), (2, 'User 3'),\n",
       " (0, 'User 4'), (1, 'User 5'), (0, 'User 6'),\n",
       " (1, 'User 7')]\n",
       "\n",
       "Overwrite the table with just ``df2``.\n",
       "\n",
       ">>> df2.to_sql(name='users', con=engine, if_exists='replace',\n",
       "...            index_label='id')\n",
       "2\n",
       ">>> with engine.connect() as conn:\n",
       "...    conn.execute(text(\"SELECT * FROM users\")).fetchall()\n",
       "[(0, 'User 6'), (1, 'User 7')]\n",
       "\n",
       "Use ``method`` to define a callable insertion method to do nothing\n",
       "if there's a primary key conflict on a table in a PostgreSQL database.\n",
       "\n",
       ">>> from sqlalchemy.dialects.postgresql import insert\n",
       ">>> def insert_on_conflict_nothing(table, conn, keys, data_iter):\n",
       "...     # \"a\" is the primary key in \"conflict_table\"\n",
       "...     data = [dict(zip(keys, row)) for row in data_iter]\n",
       "...     stmt = insert(table.table).values(data).on_conflict_do_nothing(index_elements=[\"a\"])\n",
       "...     result = conn.execute(stmt)\n",
       "...     return result.rowcount\n",
       ">>> df_conflict.to_sql(name=\"conflict_table\", con=conn, if_exists=\"append\", method=insert_on_conflict_nothing)  # doctest: +SKIP\n",
       "0\n",
       "\n",
       "For MySQL, a callable to update columns ``b`` and ``c`` if there's a conflict\n",
       "on a primary key.\n",
       "\n",
       ">>> from sqlalchemy.dialects.mysql import insert\n",
       ">>> def insert_on_conflict_update(table, conn, keys, data_iter):\n",
       "...     # update columns \"b\" and \"c\" on primary key conflict\n",
       "...     data = [dict(zip(keys, row)) for row in data_iter]\n",
       "...     stmt = (\n",
       "...         insert(table.table)\n",
       "...         .values(data)\n",
       "...     )\n",
       "...     stmt = stmt.on_duplicate_key_update(b=stmt.inserted.b, c=stmt.inserted.c)\n",
       "...     result = conn.execute(stmt)\n",
       "...     return result.rowcount\n",
       ">>> df_conflict.to_sql(name=\"conflict_table\", con=conn, if_exists=\"append\", method=insert_on_conflict_update)  # doctest: +SKIP\n",
       "2\n",
       "\n",
       "Specify the dtype (especially useful for integers with missing values).\n",
       "Notice that while pandas is forced to store the data as floating point,\n",
       "the database supports nullable integers. When fetching the data with\n",
       "Python, we get back integer scalars.\n",
       "\n",
       ">>> df = pd.DataFrame({\"A\": [1, None, 2]})\n",
       ">>> df\n",
       "     A\n",
       "0  1.0\n",
       "1  NaN\n",
       "2  2.0\n",
       "\n",
       ">>> from sqlalchemy.types import Integer\n",
       ">>> df.to_sql(name='integers', con=engine, index=False,\n",
       "...           dtype={\"A\": Integer()})\n",
       "3\n",
       "\n",
       ">>> with engine.connect() as conn:\n",
       "...   conn.execute(text(\"SELECT * FROM integers\")).fetchall()\n",
       "[(1,), (None,), (2,)]\n",
       "\u001b[1;31mFile:\u001b[0m      c:\\users\\rares\\appdata\\local\\packages\\pythonsoftwarefoundation.python.3.10_qbz5n2kfra8p0\\localcache\\local-packages\\python310\\site-packages\\pandas\\core\\generic.py\n",
       "\u001b[1;31mType:\u001b[0m      method"
      ]
     },
     "metadata": {},
     "output_type": "display_data"
    }
   ],
   "source": [
    "df.to_sql?"
   ]
  }
 ],
 "metadata": {
  "kernelspec": {
   "display_name": "Python 3 (ipykernel)",
   "language": "python",
   "name": "python3"
  },
  "language_info": {
   "codemirror_mode": {
    "name": "ipython",
    "version": 3
   },
   "file_extension": ".py",
   "mimetype": "text/x-python",
   "name": "python",
   "nbconvert_exporter": "python",
   "pygments_lexer": "ipython3",
   "version": "3.10.11"
  }
 },
 "nbformat": 4,
 "nbformat_minor": 5
}
